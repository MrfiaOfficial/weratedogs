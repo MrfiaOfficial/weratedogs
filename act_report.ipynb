{
 "cells": [
  {
   "cell_type": "markdown",
   "metadata": {},
   "source": [
    "## Report: act_report\n",
    "\n",
    "**This report succinctly communicate the insights and displays the visualization(s) produced from the wrangled data for the Wrangle Act Project.**\n",
    "\n",
    "The Wrangle Act  project objective is to gathered data from three different sources, assessed, cleaned and merged the three cleaned datasets into a master data table. Also, made some analysis to get insights and made some visualizations so as to communicate some of our findings."
   ]
  },
  {
   "cell_type": "markdown",
   "metadata": {},
   "source": [
    "To guide our analysis, six pertinent questions were asked. I listed these six questions which are related to what the dataset is all about. These questions guided me to make some exploratory efforts to answer each of the questions. \n",
    "\n",
    "The questions are:\n",
    "\n",
    "1. What are the five most popular dog breeds (breeds that appear more than others in the table?\n",
    "2. Which dog breed has the highest retweet count?\n",
    "3. What's the frequency distribution of the favorite count?\n",
    "4. Is there a correlation between retweet count and favourite count?\n",
    "5. What relational information can we get from the comparision of the dog age stages?\n",
    "6. What dog's name is most popular (a name that appears more than others in the table)?"
   ]
  },
  {
   "cell_type": "markdown",
   "metadata": {},
   "source": [
    "After a series of exploratory analysis, the answers I got to the stated analysis questions provided needed insights as required, and these insights were also used to generate some visualizations as needed."
   ]
  },
  {
   "cell_type": "markdown",
   "metadata": {},
   "source": [
    "### Some of the insights generated are:\n",
    "\n",
    "1. The five most popular breeds of dog in our dataset are golden_retriever, labrador_retriever, pembroke, chihuahua, and pug.\n",
    "2. The highest retweet_count = 79515.\n",
    "3. Labrador Retriever breed has the highest retweet count.\n",
    "4. The correlation coefficient (r) between retweet_count and favorite_count is \"0.7908904272414722\". this positive correlation coefficient that's very close to +1 denotes that there's a positive and strong correlation between retweet_count and favorite_count. This should be obvious since a tweet that's favorited by many people has the high posibility of been retweeted.\n",
    "5. Among the defined age stages, pupper has the highest number of occurence, hence it's the age stage of most of the dogs. The sum of the other defined age stage counts is less than the pupper count."
   ]
  },
  {
   "cell_type": "markdown",
   "metadata": {},
   "source": [
    "### Some Visualzations and accompanied deductions"
   ]
  },
  {
   "cell_type": "markdown",
   "metadata": {},
   "source": [
    "> #### Importing needed packages"
   ]
  },
  {
   "cell_type": "code",
   "execution_count": 18,
   "metadata": {},
   "outputs": [],
   "source": [
    "# import packages\n",
    "\n",
    "import numpy as np\n",
    "import pandas as pd\n",
    "import matplotlib.pyplot as plt\n",
    "from scipy.stats import chi2_contingency\n",
    "import seaborn as sns\n",
    "%matplotlib inline\n",
    "plt.show()"
   ]
  },
  {
   "cell_type": "markdown",
   "metadata": {},
   "source": [
    "> #### Import Master Dataset"
   ]
  },
  {
   "cell_type": "code",
   "execution_count": 6,
   "metadata": {},
   "outputs": [
    {
     "data": {
      "text/html": [
       "<div>\n",
       "<style scoped>\n",
       "    .dataframe tbody tr th:only-of-type {\n",
       "        vertical-align: middle;\n",
       "    }\n",
       "\n",
       "    .dataframe tbody tr th {\n",
       "        vertical-align: top;\n",
       "    }\n",
       "\n",
       "    .dataframe thead th {\n",
       "        text-align: right;\n",
       "    }\n",
       "</style>\n",
       "<table border=\"1\" class=\"dataframe\">\n",
       "  <thead>\n",
       "    <tr style=\"text-align: right;\">\n",
       "      <th></th>\n",
       "      <th>tweet_id</th>\n",
       "      <th>timestamp</th>\n",
       "      <th>source</th>\n",
       "      <th>text</th>\n",
       "      <th>expanded_urls</th>\n",
       "      <th>rating_numerator</th>\n",
       "      <th>rating_denominator</th>\n",
       "      <th>name</th>\n",
       "      <th>age_stage</th>\n",
       "      <th>retweet_count</th>\n",
       "      <th>...</th>\n",
       "      <th>img_num</th>\n",
       "      <th>p1</th>\n",
       "      <th>p1_conf</th>\n",
       "      <th>p1_dog</th>\n",
       "      <th>p2</th>\n",
       "      <th>p2_conf</th>\n",
       "      <th>p2_dog</th>\n",
       "      <th>p3</th>\n",
       "      <th>p3_conf</th>\n",
       "      <th>p3_dog</th>\n",
       "    </tr>\n",
       "  </thead>\n",
       "  <tbody>\n",
       "    <tr>\n",
       "      <th>0</th>\n",
       "      <td>892420643555336193</td>\n",
       "      <td>2017-08-01 16:23:56+00:00</td>\n",
       "      <td>iPhone</td>\n",
       "      <td>This is Phineas. He's a mystical boy. Only eve...</td>\n",
       "      <td>https://twitter.com/dog_rates/status/892420643...</td>\n",
       "      <td>13</td>\n",
       "      <td>10</td>\n",
       "      <td>Phineas</td>\n",
       "      <td>undefined</td>\n",
       "      <td>8853</td>\n",
       "      <td>...</td>\n",
       "      <td>1</td>\n",
       "      <td>orange</td>\n",
       "      <td>0.097049</td>\n",
       "      <td>False</td>\n",
       "      <td>bagel</td>\n",
       "      <td>0.085851</td>\n",
       "      <td>False</td>\n",
       "      <td>banana</td>\n",
       "      <td>0.076110</td>\n",
       "      <td>False</td>\n",
       "    </tr>\n",
       "    <tr>\n",
       "      <th>1</th>\n",
       "      <td>892177421306343426</td>\n",
       "      <td>2017-08-01 00:17:27+00:00</td>\n",
       "      <td>iPhone</td>\n",
       "      <td>This is Tilly. She's just checking pup on you....</td>\n",
       "      <td>https://twitter.com/dog_rates/status/892177421...</td>\n",
       "      <td>13</td>\n",
       "      <td>10</td>\n",
       "      <td>Tilly</td>\n",
       "      <td>undefined</td>\n",
       "      <td>6514</td>\n",
       "      <td>...</td>\n",
       "      <td>1</td>\n",
       "      <td>chihuahua</td>\n",
       "      <td>0.323581</td>\n",
       "      <td>True</td>\n",
       "      <td>pekinese</td>\n",
       "      <td>0.090647</td>\n",
       "      <td>True</td>\n",
       "      <td>papillon</td>\n",
       "      <td>0.068957</td>\n",
       "      <td>True</td>\n",
       "    </tr>\n",
       "    <tr>\n",
       "      <th>2</th>\n",
       "      <td>891815181378084864</td>\n",
       "      <td>2017-07-31 00:18:03+00:00</td>\n",
       "      <td>iPhone</td>\n",
       "      <td>This is Archie. He is a rare Norwegian Pouncin...</td>\n",
       "      <td>https://twitter.com/dog_rates/status/891815181...</td>\n",
       "      <td>12</td>\n",
       "      <td>10</td>\n",
       "      <td>Archie</td>\n",
       "      <td>undefined</td>\n",
       "      <td>4328</td>\n",
       "      <td>...</td>\n",
       "      <td>1</td>\n",
       "      <td>chihuahua</td>\n",
       "      <td>0.716012</td>\n",
       "      <td>True</td>\n",
       "      <td>malamute</td>\n",
       "      <td>0.078253</td>\n",
       "      <td>True</td>\n",
       "      <td>kelpie</td>\n",
       "      <td>0.031379</td>\n",
       "      <td>True</td>\n",
       "    </tr>\n",
       "    <tr>\n",
       "      <th>3</th>\n",
       "      <td>891689557279858688</td>\n",
       "      <td>2017-07-30 15:58:51+00:00</td>\n",
       "      <td>iPhone</td>\n",
       "      <td>This is Darla. She commenced a snooze mid meal...</td>\n",
       "      <td>https://twitter.com/dog_rates/status/891689557...</td>\n",
       "      <td>13</td>\n",
       "      <td>10</td>\n",
       "      <td>Darla</td>\n",
       "      <td>undefined</td>\n",
       "      <td>8964</td>\n",
       "      <td>...</td>\n",
       "      <td>1</td>\n",
       "      <td>paper_towel</td>\n",
       "      <td>0.170278</td>\n",
       "      <td>False</td>\n",
       "      <td>labrador_retriever</td>\n",
       "      <td>0.168086</td>\n",
       "      <td>True</td>\n",
       "      <td>spatula</td>\n",
       "      <td>0.040836</td>\n",
       "      <td>False</td>\n",
       "    </tr>\n",
       "    <tr>\n",
       "      <th>4</th>\n",
       "      <td>891327558926688256</td>\n",
       "      <td>2017-07-29 16:00:24+00:00</td>\n",
       "      <td>iPhone</td>\n",
       "      <td>This is Franklin. He would like you to stop ca...</td>\n",
       "      <td>https://twitter.com/dog_rates/status/891327558...</td>\n",
       "      <td>12</td>\n",
       "      <td>10</td>\n",
       "      <td>Franklin</td>\n",
       "      <td>undefined</td>\n",
       "      <td>9774</td>\n",
       "      <td>...</td>\n",
       "      <td>2</td>\n",
       "      <td>basset</td>\n",
       "      <td>0.555712</td>\n",
       "      <td>True</td>\n",
       "      <td>english_springer</td>\n",
       "      <td>0.225770</td>\n",
       "      <td>True</td>\n",
       "      <td>german_short-haired_pointer</td>\n",
       "      <td>0.175219</td>\n",
       "      <td>True</td>\n",
       "    </tr>\n",
       "  </tbody>\n",
       "</table>\n",
       "<p>5 rows × 22 columns</p>\n",
       "</div>"
      ],
      "text/plain": [
       "             tweet_id                  timestamp  source  \\\n",
       "0  892420643555336193  2017-08-01 16:23:56+00:00  iPhone   \n",
       "1  892177421306343426  2017-08-01 00:17:27+00:00  iPhone   \n",
       "2  891815181378084864  2017-07-31 00:18:03+00:00  iPhone   \n",
       "3  891689557279858688  2017-07-30 15:58:51+00:00  iPhone   \n",
       "4  891327558926688256  2017-07-29 16:00:24+00:00  iPhone   \n",
       "\n",
       "                                                text  \\\n",
       "0  This is Phineas. He's a mystical boy. Only eve...   \n",
       "1  This is Tilly. She's just checking pup on you....   \n",
       "2  This is Archie. He is a rare Norwegian Pouncin...   \n",
       "3  This is Darla. She commenced a snooze mid meal...   \n",
       "4  This is Franklin. He would like you to stop ca...   \n",
       "\n",
       "                                       expanded_urls  rating_numerator  \\\n",
       "0  https://twitter.com/dog_rates/status/892420643...                13   \n",
       "1  https://twitter.com/dog_rates/status/892177421...                13   \n",
       "2  https://twitter.com/dog_rates/status/891815181...                12   \n",
       "3  https://twitter.com/dog_rates/status/891689557...                13   \n",
       "4  https://twitter.com/dog_rates/status/891327558...                12   \n",
       "\n",
       "   rating_denominator      name  age_stage  retweet_count  ...  img_num  \\\n",
       "0                  10   Phineas  undefined           8853  ...        1   \n",
       "1                  10     Tilly  undefined           6514  ...        1   \n",
       "2                  10    Archie  undefined           4328  ...        1   \n",
       "3                  10     Darla  undefined           8964  ...        1   \n",
       "4                  10  Franklin  undefined           9774  ...        2   \n",
       "\n",
       "            p1   p1_conf p1_dog                  p2   p2_conf p2_dog  \\\n",
       "0       orange  0.097049  False               bagel  0.085851  False   \n",
       "1    chihuahua  0.323581   True            pekinese  0.090647   True   \n",
       "2    chihuahua  0.716012   True            malamute  0.078253   True   \n",
       "3  paper_towel  0.170278  False  labrador_retriever  0.168086   True   \n",
       "4       basset  0.555712   True    english_springer  0.225770   True   \n",
       "\n",
       "                            p3   p3_conf p3_dog  \n",
       "0                       banana  0.076110  False  \n",
       "1                     papillon  0.068957   True  \n",
       "2                       kelpie  0.031379   True  \n",
       "3                      spatula  0.040836  False  \n",
       "4  german_short-haired_pointer  0.175219   True  \n",
       "\n",
       "[5 rows x 22 columns]"
      ]
     },
     "execution_count": 6,
     "metadata": {},
     "output_type": "execute_result"
    }
   ],
   "source": [
    "# Import the twitter_archive_master.csv file into Pandas dataframe\n",
    "\n",
    "master_table = pd.read_csv('twitter_archive_master.csv')\n",
    "\n",
    "# Show first few rows\n",
    "master_table.head()"
   ]
  },
  {
   "cell_type": "markdown",
   "metadata": {},
   "source": [
    "> ### Frequency Distribution of the favorite_count"
   ]
  },
  {
   "cell_type": "code",
   "execution_count": 7,
   "metadata": {},
   "outputs": [
    {
     "data": {
      "text/plain": [
       "count      1983.000000\n",
       "mean       8855.403933\n",
       "std       12187.122447\n",
       "min          81.000000\n",
       "25%        1956.500000\n",
       "50%        4078.000000\n",
       "75%       11286.500000\n",
       "max      132810.000000\n",
       "Name: favorite_count, dtype: float64"
      ]
     },
     "execution_count": 7,
     "metadata": {},
     "output_type": "execute_result"
    }
   ],
   "source": [
    "# Getting statistical description of the favorite_count column\n",
    "\n",
    "master_table.favorite_count.describe()"
   ]
  },
  {
   "cell_type": "code",
   "execution_count": 8,
   "metadata": {},
   "outputs": [
    {
     "data": {
      "text/plain": [
       "(array([1.565e+03, 2.730e+02, 1.010e+02, 1.900e+01, 1.000e+01, 8.000e+00,\n",
       "        1.000e+00, 1.000e+00, 3.000e+00, 2.000e+00]),\n",
       " array([8.100000e+01, 1.335390e+04, 2.662680e+04, 3.989970e+04,\n",
       "        5.317260e+04, 6.644550e+04, 7.971840e+04, 9.299130e+04,\n",
       "        1.062642e+05, 1.195371e+05, 1.328100e+05]),\n",
       " <BarContainer object of 10 artists>)"
      ]
     },
     "execution_count": 8,
     "metadata": {},
     "output_type": "execute_result"
    },
    {
     "data": {
      "image/png": "[encoded data removed]",
      "text/plain": [
       "<Figure size 432x288 with 1 Axes>"
      ]
     },
     "metadata": {
      "needs_background": "light"
     },
     "output_type": "display_data"
    }
   ],
   "source": [
    "# Plotting an instogram\n",
    "\n",
    "plt.hist(data = master_table, x='favorite_count')"
   ]
  },
  {
   "cell_type": "code",
   "execution_count": 9,
   "metadata": {},
   "outputs": [
    {
     "data": {
      "text/plain": [
       "count    3.297323\n",
       "mean     3.947208\n",
       "std      4.085901\n",
       "min      1.908485\n",
       "25%      3.291480\n",
       "50%      3.610447\n",
       "75%      4.052559\n",
       "max      5.123231\n",
       "Name: favorite_count, dtype: float64"
      ]
     },
     "execution_count": 9,
     "metadata": {},
     "output_type": "execute_result"
    }
   ],
   "source": [
    "# Transform the describe() to a scale of log10\n",
    "# Documentation: [numpy `log10`](https://docs.scipy.org/doc/numpy/reference/generated/numpy.log10.html)\n",
    "\n",
    "np.log10(master_table.favorite_count.describe())"
   ]
  },
  {
   "cell_type": "code",
   "execution_count": 10,
   "metadata": {},
   "outputs": [
    {
     "data": {
      "image/png": "[encoded data removed]",
      "text/plain": [
       "<Figure size 1440x576 with 1 Axes>"
      ]
     },
     "metadata": {
      "needs_background": "light"
     },
     "output_type": "display_data"
    }
   ],
   "source": [
    "# Axis transformation\n",
    "# Bin size\n",
    "\n",
    "plt.figure(figsize = [20,8])\n",
    "\n",
    "bins = 10 ** np.arange(0, 6+0.1, 0.1)\n",
    "\n",
    "# Generate the x-ticks you want to apply\n",
    "ticks = [1, 5, 10, 50, 100, 500, 1000, 5000, 10000, 50000, 100000, 500000, 1000000 ]\n",
    "\n",
    "# Convert ticks into string values, to be displaye dlong the x-axis\n",
    "labels = ['{}'.format(v) for v in ticks]\n",
    "\n",
    "plt.hist(data=master_table, x='favorite_count', bins=bins);\n",
    "\n",
    "# The argument in the xscale() represents the axis scale type to apply.\n",
    "# The possible values are: {\"linear\", \"log\", \"symlog\", \"logit\", ...}\n",
    "plt.xscale('log')\n",
    "\n",
    "# Apply x-axis label\n",
    "# Documentatin: [matplotlib `xlabel`](https://matplotlib.org/api/_as_gen/matplotlib.pyplot.xlabel.html))\n",
    "plt.xlabel('x-axis limits are changed, and scaled to log-type');\n",
    "\n",
    "# Apply x-ticks\n",
    "plt.xticks(ticks, labels);"
   ]
  },
  {
   "cell_type": "markdown",
   "metadata": {},
   "source": [
    "#### InsightS\n",
    "\n",
    "- The original data for favorite count is right-skewed (positively skewed).\n",
    "- We use logarithmic transformation along the x-axis to normalized distribution."
   ]
  },
  {
   "cell_type": "markdown",
   "metadata": {},
   "source": [
    "> ### Correlation Between retweet_count and favorite_count"
   ]
  },
  {
   "cell_type": "code",
   "execution_count": 19,
   "metadata": {},
   "outputs": [
    {
     "data": {
      "text/plain": [
       "0.9121493156799456"
      ]
     },
     "execution_count": 19,
     "metadata": {},
     "output_type": "execute_result"
    }
   ],
   "source": [
    "# Calculate the correlation coefficient\n",
    "\n",
    "correlation = master_table.retweet_count.corr(master_table.favorite_count)\n",
    "correlation"
   ]
  },
  {
   "cell_type": "code",
   "execution_count": 20,
   "metadata": {},
   "outputs": [
    {
     "data": {
      "image/png": "[encoded data removed]",
      "text/plain": [
       "<Figure size 432x288 with 1 Axes>"
      ]
     },
     "metadata": {
      "needs_background": "light"
     },
     "output_type": "display_data"
    }
   ],
   "source": [
    "ax = sns.scatterplot(x=\"retweet_count\", y=\"favorite_count\", data=master_table)\n",
    "ax.set_title(\"retweet_count VS favorite_count\")\n",
    "ax.set_xlabel(\"Retweet Count\");"
   ]
  },
  {
   "cell_type": "code",
   "execution_count": 21,
   "metadata": {},
   "outputs": [
    {
     "data": {
      "image/png": "[encoded data removed]",
      "text/plain": [
       "<Figure size 360x360 with 1 Axes>"
      ]
     },
     "metadata": {
      "needs_background": "light"
     },
     "output_type": "display_data"
    }
   ],
   "source": [
    "sns.lmplot(x=\"retweet_count\", y=\"favorite_count\", data=master_table);"
   ]
  },
  {
   "cell_type": "markdown",
   "metadata": {},
   "source": [
    "#### Insight\n",
    "\n",
    "- r (correlation coefficient) = 0.7908904272414722\n",
    "- A positive correlation coefficient that's very close to +1 denotes that there's a positive and strong correlation between retweet_count and favorite_count. This should be obvious since a tweet that's favorited by many people has the high posibility of been retweeted."
   ]
  },
  {
   "cell_type": "markdown",
   "metadata": {},
   "source": [
    "> ### Visualizing the relational information gotten from the comparision of the dog age stages"
   ]
  },
  {
   "cell_type": "code",
   "execution_count": 22,
   "metadata": {},
   "outputs": [
    {
     "data": {
      "text/plain": [
       "undefined    1688\n",
       "pupper        203\n",
       "doggo          63\n",
       "puppo          22\n",
       "floof           7\n",
       "Name: age_stage, dtype: int64"
      ]
     },
     "execution_count": 22,
     "metadata": {},
     "output_type": "execute_result"
    }
   ],
   "source": [
    "# Getting the number of dogs belonging to each age stage\n",
    "\n",
    "master_table.age_stage.value_counts()"
   ]
  },
  {
   "cell_type": "code",
   "execution_count": 23,
   "metadata": {},
   "outputs": [
    {
     "data": {
      "image/png": "[encoded data removed]",
      "text/plain": [
       "<Figure size 720x720 with 1 Axes>"
      ]
     },
     "metadata": {},
     "output_type": "display_data"
    }
   ],
   "source": [
    "#Plotting a Pie chart\n",
    "\n",
    "age_stage_counts = master_table.age_stage.value_counts()\n",
    "labels = master_table.age_stage.value_counts().index\n",
    "\n",
    "plt_1 = plt.figure(figsize=(10,10))\n",
    "plt.pie(age_stage_counts, labels = labels, startangle =0, counterclock = False, wedgeprops = {'width' : 0.8});\n",
    "plt.axis('equal');\n",
    "plt.title(\"Dog Age Stages Counts\");"
   ]
  },
  {
   "cell_type": "code",
   "execution_count": 24,
   "metadata": {},
   "outputs": [
    {
     "data": {
      "image/png": "[encoded data removed]",
      "text/plain": [
       "<Figure size 432x288 with 1 Axes>"
      ]
     },
     "metadata": {
      "needs_background": "light"
     },
     "output_type": "display_data"
    }
   ],
   "source": [
    "# This is a catgorical data, so Bar chart will be a suitable chart\n",
    "# Plotting a Bar chart\n",
    "\n",
    "x = master_table['age_stage'].unique()\n",
    "y = master_table['age_stage'].value_counts()\n",
    "color=['black', 'red', 'blue', 'orange', 'green']\n",
    "plt.bar(x, height= y, color = color)\n",
    "plt.xticks(rotation=90)\n",
    "plt.xlabel('Dog Age Stages')\n",
    "plt.ylabel('Counts')\n",
    "plt.title(\"Dog Age Stages Counts\");"
   ]
  },
  {
   "cell_type": "markdown",
   "metadata": {},
   "source": [
    "#### Insights\n",
    "\n",
    "- Many of the dog rows have undefined dog age stage.\n",
    "- Among the defined age stages, pupper has the highest number of occurence, hence it's the age stage of most of the dogs. The sum of the other age stage counts is less than the doggo count."
   ]
  },
  {
   "cell_type": "markdown",
   "metadata": {},
   "source": [
    "### Conclusion\n",
    "\n",
    "I hope with the report above I was able to communicate the useful insights from the wrangling process of twitter_archive_master dataset and provided you with some needed visualizations for your understanding.\n",
    "\n",
    "\n",
    "#### Limitations\n",
    "\n",
    "There were some limitations to the wrangling process which might have in one way or the other influenced the result of the wrangling process.\n",
    "\n",
    "- Some columns have too many null values and were dropped.\n",
    "- Some rows got removed automatically when merging the three datasets. This is because \"tweet_id\" is set as the axis on which the datasets were merged, and the tweet_count table and image_precitions tables both have lesser number of rows to the twitter_archive table, hence the final merged table ended up with lesser rows than the twitter_archive table.\n",
    "\n",
    "\n",
    "**Below are the website and tools that were used that aided in the investigation of the dataset**\n",
    "\n",
    "- <a href=\"https://www.pandas.pydata.org/\"> pandas </a>\n",
    "- <a href=\"https://www.matplotlib.org/\"> matplotlib </a>\n",
    "- <a href=\"https://www.seaborn.pydata.org/\"> seaborn </a>"
   ]
  },
  {
   "cell_type": "code",
   "execution_count": null,
   "metadata": {},
   "outputs": [],
   "source": []
  }
 ],
 "metadata": {
  "kernelspec": {
   "display_name": "Python 3 (ipykernel)",
   "language": "python",
   "name": "python3"
  },
  "language_info": {
   "codemirror_mode": {
    "name": "ipython",
    "version": 3
   },
   "file_extension": ".py",
   "mimetype": "text/x-python",
   "name": "python",
   "nbconvert_exporter": "python",
   "pygments_lexer": "ipython3",
   "version": "3.9.12"
  }
 },
 "nbformat": 4,
 "nbformat_minor": 2
}
